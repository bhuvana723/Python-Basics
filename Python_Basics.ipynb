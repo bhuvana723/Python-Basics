{
  "cells": [
    {
      "cell_type": "code",
      "execution_count": null,
      "metadata": {
        "cellView": "form",
        "id": "zZ--zaDnb76k"
      },
      "outputs": [],
      "source": [
        "# @title Prime Numbers\n"
      ]
    },
    {
      "cell_type": "code",
      "execution_count": null,
      "metadata": {
        "colab": {
          "base_uri": "https://localhost:8080/"
        },
        "id": "eud-wKGvaa2f",
        "outputId": "b568132b-e634-41c5-ac40-2833da11c3d8"
      },
      "outputs": [
        {
          "name": "stdout",
          "output_type": "stream",
          "text": [
            "Enter a number: 11\n",
            "11 is a prime number.\n"
          ]
        }
      ],
      "source": [
        "def is_prime(number):\n",
        "    \"\"\"Checks if a given number is prime.\"\"\"\n",
        "    if number <= 1:\n",
        "        return False\n",
        "    if number <= 3:\n",
        "        return True\n",
        "    if number % 2 == 0 or number % 3 == 0:\n",
        "        return False\n",
        "    i = 5\n",
        "    while i * i <= number:\n",
        "        if number % i == 0 or number % (i + 2) == 0:\n",
        "            return False\n",
        "        i += 6\n",
        "    return True\n",
        "\n",
        "num = int(input(\"Enter a number: \"))\n",
        "if is_prime(num):\n",
        "    print(num, \"is a prime number.\")\n",
        "else:\n",
        "    print(num, \"is not a prime number.\")"
      ]
    },
    {
      "cell_type": "code",
      "execution_count": null,
      "metadata": {
        "cellView": "form",
        "id": "yGo4wwZmaepQ"
      },
      "outputs": [],
      "source": [
        "# @title Product of Random Numbers\n"
      ]
    },
    {
      "cell_type": "code",
      "execution_count": null,
      "metadata": {
        "colab": {
          "background_save": true,
          "base_uri": "https://localhost:8080/"
        },
        "id": "BQM3xjUZbTKJ",
        "outputId": "e0994c0b-b696-4b20-81e5-5708298b7f18"
      },
      "outputs": [
        {
          "name": "stdout",
          "output_type": "stream",
          "text": [
            "What is the product of 76 and 18 ?\n"
          ]
        }
      ],
      "source": [
        "import random\n",
        "\n",
        "num1 = random.randint(1, 100)\n",
        "num2 = random.randint(1, 100)\n",
        "\n",
        "print(\"What is the product of\", num1, \"and\", num2, \"?\")\n",
        "user_answer = int(input())\n",
        "\n",
        "if user_answer == num1 * num2:\n",
        "    print(\"Correct!\")\n",
        "else:\n",
        "    print(\"Incorrect. The correct answer is\", num1 * num2)"
      ]
    },
    {
      "cell_type": "code",
      "execution_count": null,
      "metadata": {
        "id": "ZXpngX_wbUGl"
      },
      "outputs": [],
      "source": [
        "# @title  Squares of Even/Odd Numbers\n",
        "\n"
      ]
    },
    {
      "cell_type": "code",
      "execution_count": null,
      "metadata": {
        "id": "1gWKjSuabk6h"
      },
      "outputs": [],
      "source": [
        "# Choose either even or odd numbers\n",
        "is_even = True  # Change to False for odd numbers\n",
        "\n",
        "start = 100\n",
        "end = 200\n",
        "\n",
        "if is_even:\n",
        "    print(\"Squares of even numbers:\")\n",
        "    for num in range(start, end + 1, 2):\n",
        "        print(num**2, end=\" \")\n",
        "else:\n",
        "    print(\"Squares of odd numbers:\")\n",
        "    for num in range(start + 1, end + 1, 2):\n",
        "        print(num**2, end=\" \")"
      ]
    },
    {
      "cell_type": "code",
      "execution_count": null,
      "metadata": {
        "id": "CYXsJJI2bmxM"
      },
      "outputs": [],
      "source": [
        "# @title Word Counter\n"
      ]
    },
    {
      "cell_type": "code",
      "execution_count": null,
      "metadata": {
        "id": "CXQdt6XEbsTs"
      },
      "outputs": [],
      "source": [
        "def count_words(text):\n",
        "    \"\"\"Counts the number of words in a given text.\"\"\"\n",
        "    words = text.split()\n",
        "    word_count = {}\n",
        "    for word in words:\n",
        "        word_count[word] = word_count.get(word, 0) + 1\n",
        "    return word_count\n",
        "\n",
        "input_text = \"This is a sample text. This text will be used to demonstrate the word counter.\"\n",
        "word_counts = count_words(input_text)\n",
        "for word, count in word_counts.items():\n",
        "    print(f\"'{word}': {count}\")"
      ]
    },
    {
      "cell_type": "code",
      "execution_count": null,
      "metadata": {
        "id": "GGYeg4OXbw1R"
      },
      "outputs": [],
      "source": [
        "# @title Check for Palindrome\n"
      ]
    },
    {
      "cell_type": "code",
      "execution_count": null,
      "metadata": {
        "id": "RHyuMn-QbzxC"
      },
      "outputs": [],
      "source": [
        "def is_palindrome(text):\n",
        "    \"\"\"Checks if a given string is a palindrome.\"\"\"\n",
        "    text = text.lower().replace(\" \", \"\")\n",
        "    return text == text[::-1]\n",
        "\n",
        "text = input(\"Enter a text: \")\n",
        "if is_palindrome(text):\n",
        "    print(\"It's a palindrome!\")\n",
        "else:\n",
        "    print(\"It's not a palindrome.\")"
      ]
    }
  ],
  "metadata": {
    "colab": {
      "provenance": []
    },
    "kernelspec": {
      "display_name": "Python 3",
      "name": "python3"
    },
    "language_info": {
      "name": "python"
    }
  },
  "nbformat": 4,
  "nbformat_minor": 0
}